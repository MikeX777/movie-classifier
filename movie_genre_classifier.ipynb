{
 "cells": [
  {
   "cell_type": "code",
   "execution_count": null,
   "metadata": {},
   "outputs": [],
   "source": [
    "# CAP 6619-002\n",
    "# Movie Classifier\n",
    "# Dr. Zhu\n",
    "# Michael Cuomo"
   ]
  },
  {
   "cell_type": "code",
   "execution_count": 2,
   "metadata": {},
   "outputs": [],
   "source": [
    "import os\n",
    "import numpy\n",
    "import tensorflow as tf\n",
    "import matplotlib.pyplot as plt\n",
    "\n",
    "import collections\n",
    "import pathlib\n",
    "import re\n",
    "import csv\n",
    "import random\n",
    "\n",
    "from tensorflow.keras import layers\n",
    "from tensorflow.keras import losses\n",
    "from tensorflow.keras import utils\n",
    "from tensorflow.keras.layers import TextVectorization\n"
   ]
  },
  {
   "cell_type": "code",
   "execution_count": 3,
   "metadata": {},
   "outputs": [
    {
     "name": "stdout",
     "output_type": "stream",
     "text": [
      "['10_Things_I_Hate_About_You.txt', '12.txt', '127_Hours.txt', '12_and_Holding.txt', '12_Monkeys.txt', '12_Years_a_Slave.txt', '1492_Conquest_of_Paradise.txt', '15_Minutes.txt', '17_Again.txt', '187.txt', '2001_A_Space_Odyssey.txt', '2012.txt', '28_Days_Later.txt', '30_Minutes_or_Less.txt', '44_Inch_Chest.txt', '48_Hrs.txt', '50-50.txt', '500_Days_of_Summer.txt', '8MM.txt', '9.txt']\n"
     ]
    }
   ],
   "source": [
    "directory = os.fsencode(\"./data/genres\")\n",
    "movie_names = []\n",
    "for file in os.listdir(directory):\n",
    "    movie_names.append(os.fsdecode(file))\n",
    "\n",
    "print(movie_names[:20])"
   ]
  },
  {
   "cell_type": "code",
   "execution_count": 4,
   "metadata": {},
   "outputs": [],
   "source": [
    "def plot_graphs(history, metric):\n",
    "  plt.plot(history.history[metric])\n",
    "  plt.plot(history.history['val_'+metric], '')\n",
    "  plt.xlabel(\"Epochs\")\n",
    "  plt.ylabel(metric)\n",
    "  plt.legend([metric, 'val_'+metric])\n"
   ]
  },
  {
   "cell_type": "code",
   "execution_count": 21,
   "metadata": {},
   "outputs": [],
   "source": [
    "def create_encoder(vocab_size = 50000):\n",
    "    encoder = tf.keras.layers.TextVectorization(max_tokens = vocab_size)\n",
    "    dataset = tf.data.TextLineDataset(filenames = list(map(lambda x: f\"./data/scripts/{x}\", movie_names)))\n",
    "    for line in dataset.take(5):\n",
    "        print(line.numpy())\n",
    "    encoder.adapt(dataset.batch(1024))\n",
    "    return encoder"
   ]
  },
  {
   "cell_type": "code",
   "execution_count": 24,
   "metadata": {},
   "outputs": [],
   "source": [
    "def writeEncoder(encoder, filename, vocab_size = 50000):\n",
    "    with open(f\"./data/vocabs/{filename}_{vocab_size}.txt\", \"w\", encoding = 'utf-8') as f:\n",
    "        wr = csv.writer(f)\n",
    "        wr.writerow(encoder.get_vocabulary())\n",
    "        "
   ]
  },
  {
   "cell_type": "code",
   "execution_count": 5,
   "metadata": {},
   "outputs": [],
   "source": [
    "def get_existing_encoder(encoder_type = \"\", vocab_size = 50000):\n",
    "    if vocab_size != 50000 and vocab_size != 10000 and vocab_size != 5000:\n",
    "        raise ValueError(\"Vocab of that size does not exist\")\n",
    "    encoder = tf.keras.layers.TextVectorization(max_tokens=vocab_size)\n",
    "    f = open(f\"./data/vocabs/vocab{encoder_type}_{vocab_size}.txt\", \"r\", errors = \"ignore\", encoding = \"utf-8\")\n",
    "    vocab = f.read()\n",
    "    f.close()\n",
    "\n",
    "    encoder.set_vocabulary(vocab.split(\",\"))\n",
    "    return encoder"
   ]
  },
  {
   "cell_type": "code",
   "execution_count": 6,
   "metadata": {},
   "outputs": [
    {
     "name": "stdout",
     "output_type": "stream",
     "text": [
      "['10_Things_I_Hate_About_You.txt', '12.txt', '127_Hours.txt', '12_and_Holding.txt', '12_Monkeys.txt', '12_Years_a_Slave.txt', '1492_Conquest_of_Paradise.txt', '15_Minutes.txt', '17_Again.txt', '187.txt', '2001_A_Space_Odyssey.txt', '2012.txt', '28_Days_Later.txt', '30_Minutes_or_Less.txt', '44_Inch_Chest.txt', '48_Hrs.txt', '50-50.txt', '500_Days_of_Summer.txt', '8MM.txt', '9.txt']\n"
     ]
    }
   ],
   "source": [
    "directory = os.fsencode(\"./data/genres\")\n",
    "movie_names = []\n",
    "for file in os.listdir(directory):\n",
    "    movie_names.append(os.fsdecode(file))\n",
    "\n",
    "print(movie_names[:20])"
   ]
  },
  {
   "cell_type": "code",
   "execution_count": 8,
   "metadata": {},
   "outputs": [],
   "source": [
    "# for movie in movie_names:\n",
    "#     with open(f\".\\\\data\\\\scripts_old\\\\{movie}\", 'r') as r, open(f'.\\\\data\\\\scripts\\\\{movie}', 'w', encoding = 'utf8') as o: \n",
    "#         for line in r: \n",
    "#             if line.strip(): \n",
    "#                 o.write(line.strip() +'\\n') "
   ]
  },
  {
   "cell_type": "code",
   "execution_count": 7,
   "metadata": {},
   "outputs": [],
   "source": [
    "def createSuccinctOutputVectorModel(encoder = get_existing_encoder(encoder_type = \"_ubuntu\", vocab_size = 10000)):\n",
    "    model = tf.keras.models.Sequential()\n",
    "    model.add(encoder)\n",
    "    model.add(tf.keras.layers.Embedding(input_dim = len(encoder.get_vocabulary()), output_dim = 64, mask_zero = True))\n",
    "    model.add(tf.keras.layers.Bidirectional(tf.keras.layers.LSTM(64)))\n",
    "    # model.add(tf.keras.layers.LSTM(1024, input = (1024, 17466)))\n",
    "\n",
    "    model.add(tf.keras.layers.Dense(64, activation = 'relu'))\n",
    "    model.add(tf.keras.layers.Dense(27, activation='softmax'))\n",
    "    return model\n"
   ]
  },
  {
   "cell_type": "code",
   "execution_count": 33,
   "metadata": {},
   "outputs": [],
   "source": [
    "def succintGenerator(seed = 42, train_split = 0.75, is_train = True):\n",
    "    # for movie in movie_names:\n",
    "    #     s = open(f\".\\\\data\\\\scripts\\\\{movie}\", \"r\")\n",
    "    #     script_lines = random.Random(seed).shuffle(s.read().split(\"\\n\"))\n",
    "    #     s.close()\n",
    "    #     if is_train:\n",
    "    #         script_lines = script_lines[:int(len(script_lines) * train_split) + 1]\n",
    "    #     else:\n",
    "    #         script_lines = script_lines[-(int(len(script_lines) * train_split) + 1):]\n",
    "    #     k = open(f\".\\\\data\\\\vectorized_keywords_succinct\\\\{movie}\", \"r\")\n",
    "    #     keywords = k.read().split(\",\")\n",
    "    #     k.close()\n",
    "    #     for line in script_lines:\n",
    "    #         yield line, keywords\n",
    "    movie = movie_names[0]\n",
    "    s = open(f\"./data/scripts/{movie}\", \"r\")\n",
    "    script_lines = random.Random(seed).shuffle(s.read().split(\"\\n\"))\n",
    "    s.close()\n",
    "    if is_train:\n",
    "        script_lines = script_lines[:int(len(script_lines) * train_split) + 1]\n",
    "    else:\n",
    "        script_lines = script_lines[-(int(len(script_lines) * train_split) + 1):]\n",
    "    k = open(f\"./data/vectorized_keywords_succinct/{movie}\", \"r\")\n",
    "    keywords = k.read().split(\",\")\n",
    "    k.close()\n",
    "    for line in script_lines:\n",
    "        yield line, keywords"
   ]
  },
  {
   "cell_type": "code",
   "execution_count": 8,
   "metadata": {},
   "outputs": [],
   "source": [
    "def trainSuccintGenerator():\n",
    "    # movie = movie_names[0]\n",
    "    # s = open(f\".\\\\data\\\\scripts\\\\{movie}\", \"r\")\n",
    "    # script_lines = s.read().split(\"\\n\")\n",
    "    # s.close()\n",
    "    # random.Random(42).shuffle(script_lines)\n",
    "    # script_lines = script_lines[:int(len(script_lines) * 0.75) + 1]\n",
    "    # k = open(f\".\\\\data\\\\vectorized_keywords_succinct\\\\{movie}\", \"r\")\n",
    "    # keywords = k.read().split(\",\")\n",
    "    # k.close()\n",
    "    # for line in script_lines:\n",
    "    #     yield line, keywords\n",
    "     for movie in movie_names:\n",
    "        s = open(f\"./data/scripts/{movie}\", \"r\", errors = \"ignore\", encoding='utf-8')\n",
    "        script_lines = s.read().split(\"\\n\")\n",
    "        s.close()\n",
    "        random.Random(42).shuffle(script_lines)\n",
    "        script_lines = script_lines[:int(len(script_lines) * 0.75) + 1]\n",
    "        # genres = numpy.loadtxt(f\"./data/vectorized_genres/{movie}\", delimiter = \",\")\n",
    "        # for line in script_lines:\n",
    "        #     yield line, genres\n",
    "        g = open(f\"./data/vectorized_genres_succinct/{movie}\", \"r\", errors = \"ignore\", encoding = 'utf8')\n",
    "        genres = g.read().split(\",\")\n",
    "        g.close()\n",
    "        for line in script_lines:\n",
    "            yield line, tf.stack(genres)"
   ]
  },
  {
   "cell_type": "code",
   "execution_count": 9,
   "metadata": {},
   "outputs": [],
   "source": [
    "def testSuccintGenerator():\n",
    "    # movie = movie_names[0]\n",
    "    # s = open(f\".\\\\data\\\\scripts\\\\{movie}\", \"r\")\n",
    "    # script_lines = s.read().split(\"\\n\")\n",
    "    # s.close()\n",
    "    # random.Random(42).shuffle(script_lines)\n",
    "    # script_lines = script_lines[-(int(len(script_lines) * 0.75) + 1):]\n",
    "    # k = open(f\".\\\\data\\\\vectorized_keywords_succinct\\\\{movie}\", \"r\")\n",
    "    # keywords = k.read().split(\",\")\n",
    "    # k.close()\n",
    "    # for line in script_lines:\n",
    "    #     yield line, keywords\n",
    "    for movie in movie_names:\n",
    "        s = open(f\"./data/scripts/{movie}\", \"r\", errors = \"ignore\", encoding='utf-8')\n",
    "        script_lines = s.read().split(\"\\n\")\n",
    "        s.close()\n",
    "        random.Random(42).shuffle(script_lines)\n",
    "        script_lines = script_lines[-(int(len(script_lines) * 0.75) + 1):]\n",
    "        # genres = numpy.loadtxt(f\"./data/vectorized_genres/{movie}\", delimiter = \",\")\n",
    "        # for line in script_lines:\n",
    "        #     yield line, genres\n",
    "        g = open(f\"./data/vectorized_genres_succinct/{movie}\", \"r\", errors = \"ignore\", encoding = 'utf8')\n",
    "        genres = g.read().split(\",\")\n",
    "        g.close()\n",
    "        for line in script_lines:\n",
    "            yield line, tf.stack(genres)"
   ]
  },
  {
   "cell_type": "code",
   "execution_count": 10,
   "metadata": {},
   "outputs": [],
   "source": [
    "def getSuccinctTrainDataset():\n",
    "    dataset = tf.data.Dataset.from_generator(trainSuccintGenerator, output_signature = (\n",
    "        tf.TensorSpec(shape = (), dtype = tf.string),\n",
    "        tf.TensorSpec(shape = (27,), dtype = tf.float32)))\n",
    "    return dataset"
   ]
  },
  {
   "cell_type": "code",
   "execution_count": 11,
   "metadata": {},
   "outputs": [],
   "source": [
    "def getSuccinctTestDataset():\n",
    "    dataset = tf.data.Dataset.from_generator(testSuccintGenerator, output_signature = (\n",
    "        tf.TensorSpec(shape = (), dtype = tf.string),\n",
    "        tf.TensorSpec(shape = (27,), dtype = tf.float32)))\n",
    "    return dataset"
   ]
  },
  {
   "cell_type": "code",
   "execution_count": 12,
   "metadata": {},
   "outputs": [],
   "source": [
    "def parse_map(data, labels):\n",
    "    return data, tf.stack(labels, axis=0)"
   ]
  },
  {
   "cell_type": "code",
   "execution_count": 43,
   "metadata": {},
   "outputs": [],
   "source": [
    "tf.keras.backend.clear_session()"
   ]
  },
  {
   "cell_type": "code",
   "execution_count": 12,
   "metadata": {},
   "outputs": [],
   "source": [
    "model = createSuccinctOutputVectorModel(get_existing_encoder(encoder_type = \"_ubuntu\", vocab_size = 10000))\n",
    "model.compile(loss='categorical_crossentropy', optimizer='adam', metrics=['accuracy'], run_eagerly=False)\n",
    "train = getSuccinctTrainDataset()\n",
    "test = getSuccinctTestDataset()"
   ]
  },
  {
   "cell_type": "code",
   "execution_count": 14,
   "metadata": {},
   "outputs": [
    {
     "name": "stdout",
     "output_type": "stream",
     "text": [
      "[]\n"
     ]
    }
   ],
   "source": [
    "gpus = tf.config.experimental.list_physical_devices('GPU')\n",
    "print(gpus)"
   ]
  },
  {
   "cell_type": "code",
   "execution_count": 13,
   "metadata": {},
   "outputs": [
    {
     "name": "stdout",
     "output_type": "stream",
     "text": [
      "Epoch 1/10\n",
      "49758/49758 [==============================] - 3939s 79ms/step - loss: 240162.3281 - accuracy: 0.4209 - val_loss: 34830.9531 - val_accuracy: 1.0000\n",
      "Epoch 2/10\n",
      "49758/49758 [==============================] - 5033s 101ms/step - loss: 1439823.6250 - accuracy: 0.4180 - val_loss: 76074.1641 - val_accuracy: 1.0000\n",
      "Epoch 3/10\n",
      "49758/49758 [==============================] - 4959s 100ms/step - loss: 3928077.7500 - accuracy: 0.4202 - val_loss: 127019.0078 - val_accuracy: 1.0000\n",
      "Epoch 4/10\n",
      "49758/49758 [==============================] - 11469s 230ms/step - loss: 7845217.5000 - accuracy: 0.4184 - val_loss: 170090.9688 - val_accuracy: 1.0000\n",
      "Epoch 5/10\n",
      "49758/49758 [==============================] - 7480s 150ms/step - loss: 13262470.0000 - accuracy: 0.4164 - val_loss: 225496.0625 - val_accuracy: 1.0000\n",
      "Epoch 6/10\n",
      "49758/49758 [==============================] - 5503s 111ms/step - loss: 20135900.0000 - accuracy: 0.4166 - val_loss: 270520.3125 - val_accuracy: 1.0000\n",
      "Epoch 7/10\n",
      "49758/49758 [==============================] - 6473s 130ms/step - loss: 28540916.0000 - accuracy: 0.4184 - val_loss: 322747.3438 - val_accuracy: 1.0000\n",
      "Epoch 8/10\n",
      "49758/49758 [==============================] - 9704s 195ms/step - loss: 39508588.0000 - accuracy: 0.4173 - val_loss: 377568.1250 - val_accuracy: 1.0000\n",
      "Epoch 9/10\n",
      "49758/49758 [==============================] - 6690s 134ms/step - loss: 51561276.0000 - accuracy: 0.4199 - val_loss: 432160.1250 - val_accuracy: 1.0000\n",
      "Epoch 10/10\n",
      "49758/49758 [==============================] - 6074s 122ms/step - loss: 64954048.0000 - accuracy: 0.4190 - val_loss: 492864.3438 - val_accuracy: 1.0000\n"
     ]
    }
   ],
   "source": [
    "BATCH_SIZE = 64\n",
    "train = train.batch(BATCH_SIZE)\n",
    "test = test.batch(BATCH_SIZE)\n",
    "history = model.fit(train, epochs = 10,\n",
    "                    validation_data=test,\n",
    "                    validation_steps=30)\n"
   ]
  },
  {
   "cell_type": "code",
   "execution_count": 20,
   "metadata": {},
   "outputs": [
    {
     "name": "stdout",
     "output_type": "stream",
     "text": [
      "Model: \"sequential\"\n",
      "_________________________________________________________________\n",
      " Layer (type)                Output Shape              Param #   \n",
      "=================================================================\n",
      " text_vectorization_1 (Text  (None, None)              0         \n",
      " Vectorization)                                                  \n",
      "                                                                 \n",
      " embedding (Embedding)       (None, None, 64)          640000    \n",
      "                                                                 \n",
      " bidirectional (Bidirection  (None, 128)               66048     \n",
      " al)                                                             \n",
      "                                                                 \n",
      " dense (Dense)               (None, 64)                8256      \n",
      "                                                                 \n",
      " dense_1 (Dense)             (None, 27)                1755      \n",
      "                                                                 \n",
      "=================================================================\n",
      "Total params: 716059 (2.73 MB)\n",
      "Trainable params: 716059 (2.73 MB)\n",
      "Non-trainable params: 0 (0.00 Byte)\n",
      "_________________________________________________________________\n"
     ]
    }
   ],
   "source": [
    "model.summary()"
   ]
  },
  {
   "cell_type": "code",
   "execution_count": 14,
   "metadata": {},
   "outputs": [
    {
     "name": "stdout",
     "output_type": "stream",
     "text": [
      "49758/49758 [==============================] - 1266s 25ms/step - loss: 71556944.0000 - accuracy: 0.3242\n",
      "Test Loss: 71556944.0\n",
      "Test Accuracy: 0.3241651654243469\n"
     ]
    }
   ],
   "source": [
    "test_loss, test_acc = model.evaluate(test)\n",
    "\n",
    "print('Test Loss:', test_loss)\n",
    "print('Test Accuracy:', test_acc)\n"
   ]
  },
  {
   "cell_type": "code",
   "execution_count": 16,
   "metadata": {},
   "outputs": [
    {
     "data": {
      "text/plain": [
       "(0.0, 68200008.85234375)"
      ]
     },
     "execution_count": 16,
     "metadata": {},
     "output_type": "execute_result"
    },
    {
     "data": {
      "image/png": "[encoded data removed]",
      "text/plain": [
       "<Figure size 1600x800 with 2 Axes>"
      ]
     },
     "metadata": {},
     "output_type": "display_data"
    }
   ],
   "source": [
    "plt.figure(figsize=(16, 8))\n",
    "plt.subplot(1, 2, 1)\n",
    "plot_graphs(history, 'accuracy')\n",
    "plt.ylim(None, 1)\n",
    "plt.subplot(1, 2, 2)\n",
    "plot_graphs(history, 'loss')\n",
    "plt.ylim(0, None)\n"
   ]
  }
 ],
 "metadata": {
  "kernelspec": {
   "display_name": "Python 3",
   "language": "python",
   "name": "python3"
  },
  "language_info": {
   "codemirror_mode": {
    "name": "ipython",
    "version": 3
   },
   "file_extension": ".py",
   "mimetype": "text/x-python",
   "name": "python",
   "nbconvert_exporter": "python",
   "pygments_lexer": "ipython3",
   "version": "3.11.1"
  }
 },
 "nbformat": 4,
 "nbformat_minor": 2
}
