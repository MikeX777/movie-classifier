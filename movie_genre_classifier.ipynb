{
 "cells": [
  {
   "cell_type": "code",
   "execution_count": null,
   "metadata": {},
   "outputs": [],
   "source": [
    "# CAP 6619-002\n",
    "# Movie Classifier\n",
    "# Dr. Zhu\n",
    "# Michael Cuomo"
   ]
  },
  {
   "cell_type": "code",
   "execution_count": 1,
   "metadata": {},
   "outputs": [],
   "source": [
    "import os\n",
    "import gc\n",
    "import numpy\n",
    "import tensorflow as tf\n",
    "import matplotlib.pyplot as plt\n",
    "import pickle\n",
    "\n",
    "import collections\n",
    "import itertools\n",
    "import pathlib\n",
    "import re\n",
    "import csv\n",
    "import random\n",
    "\n",
    "from tensorflow.keras import layers\n",
    "from tensorflow.keras import models\n",
    "from tensorflow.keras import losses\n",
    "from tensorflow.keras import utils\n",
    "from tensorflow.keras.layers import TextVectorization\n",
    "from sklearn.metrics import hamming_loss\n"
   ]
  },
  {
   "cell_type": "code",
   "execution_count": 2,
   "metadata": {},
   "outputs": [],
   "source": [
    "EPOCH_NUM = 10\n",
    "BATCH_SIZE = 128\n",
    "TESTING_SUBSET = 47\n",
    "MOVIE_SUBSET = 474\n",
    "# MOVIE_SUBSET = 313\n",
    "# TESTING_SUBSET = 31\n",
    "RANDOM_SEED = 42"
   ]
  },
  {
   "cell_type": "code",
   "execution_count": 3,
   "metadata": {},
   "outputs": [
    {
     "name": "stdout",
     "output_type": "stream",
     "text": [
      "['10_Things_I_Hate_About_You.txt', '12.txt', '127_Hours.txt', '12_and_Holding.txt', '12_Monkeys.txt', '12_Years_a_Slave.txt', '1492_Conquest_of_Paradise.txt', '15_Minutes.txt', '17_Again.txt', '187.txt', '2001_A_Space_Odyssey.txt', '2012.txt', '28_Days_Later.txt', '30_Minutes_or_Less.txt', '44_Inch_Chest.txt', '48_Hrs.txt', '50-50.txt', '500_Days_of_Summer.txt', '8MM.txt', '9.txt']\n",
      "['Gone_in_60_Seconds.txt', 'Verdict,_The.txt', 'South_Park.txt', 'Semi-Pro.txt', 'Life_of_David_Gale,_The.txt', 'Labor_of_Love.txt', 'American_Beauty.txt', 'Sweeney_Todd_The_Demon_Barber_of_Fleet_Street.txt', 'Star_Trek_The_Motion_Picture.txt', 'Jane_Eyre.txt', 'American_Hustle.txt', 'Ronin.txt', 'Independence_Day.txt', 'Cliffhanger.txt', 'Mighty_Morphin_Power_Rangers_The_Movie.txt', 'Highlander.txt', 'English_Patient,_The.txt', 'Excalibur.txt', \"Something's_Gotta_Give.txt\", 'Kill_Bill_Volume_1_%2526_2.txt']\n"
     ]
    }
   ],
   "source": [
    "directory = os.fsencode(\"./data/genres\")\n",
    "movie_names = []\n",
    "for file in os.listdir(directory):\n",
    "    movie_names.append(os.fsdecode(file))\n",
    "\n",
    "shuffled_movies = movie_names.copy()\n",
    "random.Random(RANDOM_SEED).shuffle(shuffled_movies)\n",
    "print(movie_names[:20])\n",
    "print(shuffled_movies[:20])"
   ]
  },
  {
   "cell_type": "code",
   "execution_count": 4,
   "metadata": {},
   "outputs": [],
   "source": [
    "def plot_graphs(histories, legendNames, ylabel, title, metric):\n",
    "  for history in histories:\n",
    "    plt.plot(history.history[metric])\n",
    "    plt.plot(history.history['val_'+metric], '')\n",
    "  plt.xlabel(\"Epochs\")\n",
    "  plt.ylabel(ylabel)\n",
    "  plt.title(title)\n",
    "  plt.legend(list(itertools.chain.from_iterable(map(lambda x: [x, 'Validation ' + x], legendNames))))"
   ]
  },
  {
   "cell_type": "code",
   "execution_count": 1,
   "metadata": {},
   "outputs": [],
   "source": [
    "def hamming_loss(y_true, y_pred):\n",
    "    correct_pred = 0.0\n",
    "    for x in range(y_true.shape[1]):\n",
    "        if y_true[1][x] == (1.0 if y_pred[1][x] > 0.5 else 0.0):\n",
    "            correct_pred += 1.0\n",
    "    return correct_pred / y_true.shape[1]\n"
   ]
  },
  {
   "cell_type": "code",
   "execution_count": 5,
   "metadata": {},
   "outputs": [],
   "source": [
    "def create_idf_encoder(vocab_size = 50000):\n",
    "    encoder = tf.keras.layers.TextVectorization(max_tokens = vocab_size, standardize='lower_and_strip_punctuation', output_mode = 'tf_idf')\n",
    "    dataset = tf.data.TextLineDataset(filenames = list(map(lambda x: f\"./data/scripts/{x}\", movie_names)))\n",
    "    encoder.adapt(dataset.batch(1024))\n",
    "    return encoder\n",
    "\n",
    "def write_idf_encoder(encoder, filename, vocab_size = 50000):\n",
    "    pickle.dump({'config': encoder.get_config(),\n",
    "             'weights': encoder.get_weights()}\n",
    "            , open(f\"./data/vocabs/{filename}_idf_vocab_{vocab_size}.pkl\", \"wb\"))"
   ]
  },
  {
   "cell_type": "code",
   "execution_count": 132,
   "metadata": {},
   "outputs": [],
   "source": [
    "def create_encoder(vocab_size = 50000):\n",
    "    encoder = tf.keras.layers.TextVectorization(max_tokens = vocab_size, standardize='lower_and_strip_punctuation')\n",
    "    dataset = tf.data.TextLineDataset(filenames = list(map(lambda x: f\"./data/scripts/{x}\", movie_names)))\n",
    "    encoder.adapt(dataset.batch(1024))\n",
    "    return encoder\n",
    "\n",
    "def writeEncoder(encoder, filename, vocab_size = 50000):\n",
    "    with open(f\"./data/vocabs/{filename}_{vocab_size}.txt\", \"w\", encoding = 'utf-8') as f:\n",
    "        wr = csv.writer(f)\n",
    "        wr.writerow(encoder.get_vocabulary())"
   ]
  },
  {
   "cell_type": "code",
   "execution_count": 4,
   "metadata": {},
   "outputs": [],
   "source": [
    "def get_existing_encoder(encoder_type = \"\", vocab_size = 50000):\n",
    "    if vocab_size != 50000 and vocab_size != 10000 and vocab_size != 5000:\n",
    "        raise ValueError(\"Vocab of that size does not exist\")\n",
    "    encoder = tf.keras.layers.TextVectorization(max_tokens=vocab_size, standardize='lower_and_strip_punctuation')\n",
    "    f = open(f\"./data/vocabs/vocab{encoder_type}_{vocab_size}.txt\", \"r\", errors = \"ignore\", encoding = \"utf-8\")\n",
    "    vocab = f.read()\n",
    "    f.close()\n",
    "\n",
    "    encoder.set_vocabulary(vocab.split(\",\"))\n",
    "    return encoder\n",
    "\n",
    "def get_existing_idf_encoder(encoder_type = \"\", vocab_size = 5000):\n",
    "    if vocab_size != 50000 and vocab_size != 10000 and vocab_size != 5000:\n",
    "        raise ValueError(\"Vocab of that size does not exist\")\n",
    "    from_disk = pickle.load(open(f\"./data/vocabs/{encoder_type}_idf_vocab_{vocab_size}.pkl\", \"rb\"))\n",
    "    encoder = tf.keras.layers.TextVectorization.from_config(from_disk[\"config\"])\n",
    "    encoder.set_weights(from_disk[\"weights\"])\n",
    "\n",
    "    return encoder"
   ]
  },
  {
   "cell_type": "code",
   "execution_count": 5,
   "metadata": {},
   "outputs": [],
   "source": [
    "def createLstmModel(encoder = get_existing_encoder(encoder_type = \"_ubuntu\", vocab_size = 10000), dropout = 0.5):\n",
    "    model = tf.keras.models.Sequential()\n",
    "    model.add(encoder)\n",
    "    model.add(tf.keras.layers.Embedding(input_dim = len(encoder.get_vocabulary()) + 1, output_dim = 64, mask_zero = True))\n",
    "    model.add(tf.keras.layers.Bidirectional(tf.keras.layers.LSTM(units = 64, dropout = dropout)))\n",
    "    model.add(tf.keras.layers.Dense(64, activation = 'relu'))\n",
    "    model.add(tf.keras.layers.Dense(27, activation='sigmoid'))\n",
    "    return model"
   ]
  },
  {
   "cell_type": "code",
   "execution_count": 6,
   "metadata": {},
   "outputs": [],
   "source": [
    "def createGruModel(encoder = get_existing_encoder(encoder_type = \"_ubuntu\", vocab_size = 10000), dropout = 0.5):\n",
    "    model = tf.keras.models.Sequential()\n",
    "    model.add(encoder)\n",
    "    model.add(tf.keras.layers.Embedding(input_dim = len(encoder.get_vocabulary()) + 1, output_dim = 64, mask_zero = True))\n",
    "    model.add(tf.keras.layers.Bidirectional(tf.keras.layers.GRU(units = 64, dropout = dropout)))\n",
    "    model.add(tf.keras.layers.Dense(64, activation = 'relu'))\n",
    "    model.add(tf.keras.layers.Dense(27, activation='sigmoid'))\n",
    "    return model"
   ]
  },
  {
   "cell_type": "code",
   "execution_count": 7,
   "metadata": {},
   "outputs": [],
   "source": [
    "def flatValue(x):\n",
    "    return tf.constant([0.0, 1.0, 0.0, 0.0, 0.0, 0.0, 0.0, 0.0, 0.0, 0.0, 0.0, 0.0, 0.0, 0.0, 0.0, 0.0, 0.0, 0.0, 0.0, 0.0, 0.0, 0.0, 0.0, 0.0, 0.0, 0.0, 0.0])\n",
    "\n",
    "def createDummyModel():\n",
    "    input = layers.Input(shape = (), dtype = tf.string)\n",
    "    output = layers.Lambda(flatValue, output_shape = (27,))(input)\n",
    "    return models.Model(input, output)"
   ]
  },
  {
   "cell_type": "code",
   "execution_count": 8,
   "metadata": {},
   "outputs": [],
   "source": [
    "def trainSuccintGenerator():\n",
    "    num_movie_subset = len(shuffled_movies)\n",
    "    if MOVIE_SUBSET > 0:\n",
    "        num_movie_subset = MOVIE_SUBSET\n",
    "    # movie = movie_names[0]\n",
    "    # s = open(f\".\\\\data\\\\scripts\\\\{movie}\", \"r\")\n",
    "    # script_lines = s.read().split(\"\\n\")\n",
    "    # s.close()\n",
    "    # random.Random(42).shuffle(script_lines)\n",
    "    # script_lines = script_lines[:int(len(script_lines) * 0.75) + 1]\n",
    "    # k = open(f\".\\\\data\\\\vectorized_keywords_succinct\\\\{movie}\", \"r\")\n",
    "    # keywords = k.read().split(\",\")\n",
    "    # k.close()\n",
    "    # for line in script_lines:\n",
    "    #     yield line, keywords\n",
    "    for movie in shuffled_movies[:num_movie_subset]:\n",
    "        s = open(f\"./data/scripts/{movie}\", \"r\", errors = \"ignore\", encoding='utf-8')\n",
    "        script_lines = s.read().split(\"\\n\")\n",
    "        s.close()\n",
    "        random.Random(42).shuffle(script_lines)\n",
    "        script_lines = script_lines[:int(len(script_lines) * 0.75) + 1]\n",
    "        # genres = numpy.loadtxt(f\"./data/vectorized_genres/{movie}\", delimiter = \",\")\n",
    "        # for line in script_lines:\n",
    "        #     yield line, genres\n",
    "        g = open(f\"./data/vectorized_genres_succinct/{movie}\", \"r\", errors = \"ignore\", encoding = 'utf8')\n",
    "        genres = g.read().split(\",\")\n",
    "        g.close()\n",
    "        for line in script_lines:\n",
    "            yield line, tf.stack(genres)\n",
    "        del s\n",
    "        del script_lines\n",
    "        del g\n",
    "        del genres\n",
    "        gc.collect()\n",
    "\n",
    "def validationSuccintGenerator():\n",
    "    num_movie_subset = len(shuffled_movies)\n",
    "    if MOVIE_SUBSET > 0:\n",
    "         num_movie_subset = MOVIE_SUBSET\n",
    "    # movie = movie_names[0]\n",
    "    # s = open(f\".\\\\data\\\\scripts\\\\{movie}\", \"r\")\n",
    "    # script_lines = s.read().split(\"\\n\")\n",
    "    # s.close()\n",
    "    # random.Random(42).shuffle(script_lines)\n",
    "    # script_lines = script_lines[-(int(len(script_lines) * 0.75) + 1):]\n",
    "    # k = open(f\".\\\\data\\\\vectorized_keywords_succinct\\\\{movie}\", \"r\")\n",
    "    # keywords = k.read().split(\",\")\n",
    "    # k.close()\n",
    "    # for line in script_lines:\n",
    "    #     yield line, keywords\n",
    "    for movie in shuffled_movies[:num_movie_subset]:\n",
    "        s = open(f\"./data/scripts/{movie}\", \"r\", errors = \"ignore\", encoding='utf-8')\n",
    "        script_lines = s.read().split(\"\\n\")\n",
    "        s.close()\n",
    "        random.Random(42).shuffle(script_lines)\n",
    "        script_lines = script_lines[-(int(len(script_lines) * 0.75) + 1):]\n",
    "        # genres = numpy.loadtxt(f\"./data/vectorized_genres/{movie}\", delimiter = \",\")\n",
    "        # for line in script_lines:\n",
    "        #     yield line, genres\n",
    "        g = open(f\"./data/vectorized_genres_succinct/{movie}\", \"r\", errors = \"ignore\", encoding = 'utf8')\n",
    "        genres = g.read().split(\",\")\n",
    "        g.close()\n",
    "        for line in script_lines:\n",
    "            yield line, tf.stack(genres)\n",
    "        del s\n",
    "        del script_lines\n",
    "        del g\n",
    "        del genres\n",
    "        gc.collect()\n",
    "\n",
    "def testSuccintGenerator():\n",
    "    num_movie_subset = TESTING_SUBSET\n",
    "    # if MOVIE_SUBSET > 0:\n",
    "    #     num_movie_subset = len(shuffled_movies) - MOVIE_SUBSET\n",
    "        # num_movie_subset = 5\n",
    "    for movie in shuffled_movies[-num_movie_subset:]:\n",
    "        s = open(f\"./data/scripts/{movie}\", \"r\", errors = \"ignore\", encoding='utf-8')\n",
    "        script_lines = s.read().split(\"\\n\")\n",
    "        s.close()\n",
    "        g = open(f\"./data/vectorized_genres_succinct/{movie}\", \"r\", errors = \"ignore\", encoding = 'utf8')\n",
    "        genres = g.read().split(\",\")\n",
    "        g.close()\n",
    "        for line in script_lines:\n",
    "            yield line, tf.stack(genres)\n",
    "        del s\n",
    "        del script_lines\n",
    "        del g\n",
    "        del genres\n",
    "        gc.collect()\n",
    "\n",
    "def getSuccinctTrainDataset():\n",
    "    dataset = tf.data.Dataset.from_generator(trainSuccintGenerator, output_signature = (\n",
    "        tf.TensorSpec(shape = (), dtype = tf.string),\n",
    "        tf.TensorSpec(shape = (27,), dtype = tf.float32)))\n",
    "    return dataset\n",
    "\n",
    "def getSuccinctValidationDataset():\n",
    "    dataset = tf.data.Dataset.from_generator(validationSuccintGenerator, output_signature = (\n",
    "        tf.TensorSpec(shape = (), dtype = tf.string),\n",
    "        tf.TensorSpec(shape = (27,), dtype = tf.float32)))\n",
    "    return dataset\n",
    "\n",
    "def getSuccinctTestDataset():\n",
    "    dataset = tf.data.Dataset.from_generator(testSuccintGenerator, output_signature = (\n",
    "        tf.TensorSpec(shape = (), dtype = tf.string),\n",
    "        tf.TensorSpec(shape = (27,), dtype = tf.float32)))\n",
    "    return dataset\n"
   ]
  },
  {
   "cell_type": "code",
   "execution_count": 9,
   "metadata": {},
   "outputs": [],
   "source": [
    "train = getSuccinctTrainDataset()\n",
    "validation = getSuccinctValidationDataset()\n",
    "test = getSuccinctTestDataset()\n",
    "train = train.batch(BATCH_SIZE)\n",
    "validation = validation.batch(BATCH_SIZE)\n",
    "test = test.batch(BATCH_SIZE)"
   ]
  },
  {
   "cell_type": "code",
   "execution_count": null,
   "metadata": {},
   "outputs": [],
   "source": [
    "# TF Encoder not working\n",
    "\n",
    "# lstm_model = createLstmModel(get_existing_idf_encoder(encoder_type = \"pickle\", vocab_size = 10000), dropout = 0.5)\n",
    "# lstm_model.compile(loss='binary_crossentropy', optimizer='adam', metrics=['binary_accuracy'], run_eagerly=False)\n",
    "# gru_model = createGruModel(get_existing_idf_encoder(encoder_type = \"pickle\", vocab_size = 10000), dropout = 0.5)\n",
    "# gru_model.compile(loss='binary_crossentropy', optimizer='adam', metrics=['binary_accuracy'], run_eagerly=False)\n",
    "# dummy_model = createDummyModel()\n",
    "# dummy_model.compile(loss='binary_crossentropy', metrics=['binary_accuracy'], run_eagerly=False)"
   ]
  },
  {
   "cell_type": "code",
   "execution_count": 10,
   "metadata": {},
   "outputs": [],
   "source": [
    "lstm_model = createLstmModel(get_existing_encoder(encoder_type = \"_ubuntu\", vocab_size = 10000), dropout = 0.5)\n",
    "lstm_model.compile(loss='binary_crossentropy', optimizer='adam', metrics=['binary_accuracy'], run_eagerly=False)\n",
    "gru_model = createGruModel(get_existing_encoder(encoder_type = \"_ubuntu\", vocab_size = 10000), dropout = 0.5)\n",
    "gru_model.compile(loss='binary_crossentropy', optimizer='adam', metrics=['binary_accuracy'], run_eagerly=False)\n",
    "dummy_model = createDummyModel()\n",
    "dummy_model.compile(loss='binary_crossentropy', metrics=['binary_accuracy'], run_eagerly=False)"
   ]
  },
  {
   "cell_type": "code",
   "execution_count": 11,
   "metadata": {},
   "outputs": [],
   "source": [
    "def getModelSaveCallback(model_name, training_number):\n",
    "    checkpoint_path = f\"./models/{model_name}/training_{training_number}\" + \"/cp-{epoch:04d}.ckpt\"\n",
    "    return tf.keras.callbacks.ModelCheckpoint(\n",
    "        filepath=checkpoint_path,\n",
    "        verbose=1, \n",
    "        save_weights_only=True)\n",
    "\n",
    "def getHistorySaveCallback(model_name, training_number):\n",
    "    filepath = f\"./models/{model_name}/training_{training_number}/log_history.csv\"\n",
    "    return tf.keras.callbacks.CSVLogger(filepath, separator=\",\", append=True)"
   ]
  },
  {
   "cell_type": "code",
   "execution_count": 17,
   "metadata": {},
   "outputs": [],
   "source": [
    "latest_checkpoint = tf.train.latest_checkpoint(\"./models/mk5_lstm_half_data/training_2/\")"
   ]
  },
  {
   "cell_type": "code",
   "execution_count": 18,
   "metadata": {},
   "outputs": [
    {
     "data": {
      "text/plain": [
       "<tensorflow.python.checkpoint.checkpoint.CheckpointLoadStatus at 0x266c0169d90>"
      ]
     },
     "execution_count": 18,
     "metadata": {},
     "output_type": "execute_result"
    }
   ],
   "source": [
    "lstm_model.load_weights(latest_checkpoint)"
   ]
  },
  {
   "cell_type": "code",
   "execution_count": 19,
   "metadata": {},
   "outputs": [],
   "source": [
    "lstm_model.build(())"
   ]
  },
  {
   "cell_type": "code",
   "execution_count": 12,
   "metadata": {},
   "outputs": [],
   "source": [
    "lstm_model_name = \"mk5_lstm_half_data\"\n",
    "gru_model_name = \"mk5_gru_half_data\"\n",
    "\n",
    "lstm_callback = getModelSaveCallback(lstm_model_name, 2)\n",
    "lstm_history_callback = getHistorySaveCallback(lstm_model_name, 2)\n",
    "gru_callback = getModelSaveCallback(gru_model_name, 0)\n",
    "gru_history_callback = getHistorySaveCallback(gru_model_name, 0)\n"
   ]
  },
  {
   "cell_type": "code",
   "execution_count": 23,
   "metadata": {},
   "outputs": [],
   "source": [
    "gru_model_name = \"mk6_gru_quarter_data\"\n",
    "gru_model = createGruModel(get_existing_encoder(encoder_type = \"_ubuntu\", vocab_size = 10000), dropout = 0.5)\n",
    "gru_model.compile(loss='binary_crossentropy', optimizer='adam', metrics=['binary_accuracy'], run_eagerly=False)\n",
    "gru_callback = getModelSaveCallback(gru_model_name, 0)\n",
    "gru_history_callback = getHistorySaveCallback(gru_model_name, 0)"
   ]
  },
  {
   "cell_type": "code",
   "execution_count": 17,
   "metadata": {},
   "outputs": [
    {
     "name": "stdout",
     "output_type": "stream",
     "text": [
      "Epoch 1/2\n",
      "  12436/Unknown - 9126s 734ms/step - loss: 0.2315 - binary_accuracy: 0.9095\n",
      "Epoch 1: saving model to ./models/mk5_lstm_half_data/training_2\\cp-0001.ckpt\n",
      "12436/12436 [==============================] - 9129s 734ms/step - loss: 0.2315 - binary_accuracy: 0.9095 - val_loss: 0.2417 - val_binary_accuracy: 0.8896\n",
      "Epoch 2/2\n",
      "12436/12436 [==============================] - ETA: 0s - loss: 0.2307 - binary_accuracy: 0.9098\n",
      "Epoch 2: saving model to ./models/mk5_lstm_half_data/training_2\\cp-0002.ckpt\n",
      "12436/12436 [==============================] - 11829s 951ms/step - loss: 0.2307 - binary_accuracy: 0.9098 - val_loss: 0.2343 - val_binary_accuracy: 0.8913\n"
     ]
    }
   ],
   "source": [
    "lstm_history = lstm_model.fit(train,\n",
    "                                epochs = 2,\n",
    "                                validation_data=validation,\n",
    "                                callbacks=[lstm_callback, lstm_history_callback],\n",
    "                                validation_steps=30)"
   ]
  },
  {
   "cell_type": "code",
   "execution_count": 18,
   "metadata": {},
   "outputs": [],
   "source": [
    "with open(f'./models/{lstm_model_name}/training_0/pickle_history', 'wb') as file_pi:\n",
    "    pickle.dump(lstm_history.history, file_pi)\n",
    "\n",
    "with open(f'./models/{lstm_model_name}/training_0/pickle_model', 'wb') as file_pi:\n",
    "    pickle.dump(lstm_history.model, file_pi)"
   ]
  },
  {
   "cell_type": "code",
   "execution_count": 13,
   "metadata": {},
   "outputs": [
    {
     "name": "stdout",
     "output_type": "stream",
     "text": [
      "Epoch 1/10\n",
      "  12435/Unknown - 25828s 2s/step - loss: 0.2491 - binary_accuracy: 0.9005\n",
      "Epoch 1: saving model to ./models/mk5_gru_half_data/training_0\\cp-0001.ckpt\n",
      "12436/12436 [==============================] - 25831s 2s/step - loss: 0.2491 - binary_accuracy: 0.9005 - val_loss: 0.2999 - val_binary_accuracy: 0.8895\n",
      "Epoch 2/10\n",
      "12435/12436 [============================>.] - ETA: 2s - loss: 0.2408 - binary_accuracy: 0.9042\n",
      "Epoch 2: saving model to ./models/mk5_gru_half_data/training_0\\cp-0002.ckpt\n",
      "12436/12436 [==============================] - 33631s 3s/step - loss: 0.2408 - binary_accuracy: 0.9042 - val_loss: 0.2624 - val_binary_accuracy: 0.8682\n",
      "Epoch 3/10\n",
      "12436/12436 [==============================] - ETA: 0s - loss: 0.2352 - binary_accuracy: 0.9073\n",
      "Epoch 3: saving model to ./models/mk5_gru_half_data/training_0\\cp-0003.ckpt\n",
      "12436/12436 [==============================] - 27212s 2s/step - loss: 0.2352 - binary_accuracy: 0.9073 - val_loss: 0.2611 - val_binary_accuracy: 0.8583\n",
      "Epoch 4/10\n",
      "12436/12436 [==============================] - ETA: 0s - loss: 0.2335 - binary_accuracy: 0.9082\n",
      "Epoch 4: saving model to ./models/mk5_gru_half_data/training_0\\cp-0004.ckpt\n",
      "12436/12436 [==============================] - 49856s 4s/step - loss: 0.2335 - binary_accuracy: 0.9082 - val_loss: 0.2810 - val_binary_accuracy: 0.8671\n",
      "Epoch 5/10\n",
      "12435/12436 [============================>.] - ETA: 3s - loss: 0.2349 - binary_accuracy: 0.9083\n",
      "Epoch 5: saving model to ./models/mk5_gru_half_data/training_0\\cp-0005.ckpt\n",
      "12436/12436 [==============================] - 43449s 3s/step - loss: 0.2349 - binary_accuracy: 0.9083 - val_loss: 0.2780 - val_binary_accuracy: 0.8617\n",
      "Epoch 6/10\n",
      "12436/12436 [==============================] - ETA: 0s - loss: 0.2357 - binary_accuracy: 0.9079\n",
      "Epoch 6: saving model to ./models/mk5_gru_half_data/training_0\\cp-0006.ckpt\n",
      "12436/12436 [==============================] - 36720s 3s/step - loss: 0.2357 - binary_accuracy: 0.9079 - val_loss: 0.2909 - val_binary_accuracy: 0.8614\n",
      "Epoch 7/10\n",
      "12436/12436 [==============================] - ETA: 0s - loss: 0.2363 - binary_accuracy: 0.9080\n",
      "Epoch 7: saving model to ./models/mk5_gru_half_data/training_0\\cp-0007.ckpt\n",
      "12436/12436 [==============================] - 28504s 2s/step - loss: 0.2363 - binary_accuracy: 0.9080 - val_loss: 0.2808 - val_binary_accuracy: 0.8929\n",
      "Epoch 8/10\n",
      "12436/12436 [==============================] - ETA: 0s - loss: 0.2350 - binary_accuracy: 0.9084\n",
      "Epoch 8: saving model to ./models/mk5_gru_half_data/training_0\\cp-0008.ckpt\n",
      "12436/12436 [==============================] - 41846s 3s/step - loss: 0.2350 - binary_accuracy: 0.9084 - val_loss: 0.2380 - val_binary_accuracy: 0.8825\n",
      "Epoch 9/10\n",
      "12436/12436 [==============================] - ETA: 0s - loss: 0.2341 - binary_accuracy: 0.9088\n",
      "Epoch 9: saving model to ./models/mk5_gru_half_data/training_0\\cp-0009.ckpt\n",
      "12436/12436 [==============================] - 46852s 4s/step - loss: 0.2341 - binary_accuracy: 0.9088 - val_loss: 0.2535 - val_binary_accuracy: 0.9012\n",
      "Epoch 10/10\n",
      "12436/12436 [==============================] - ETA: 0s - loss: 0.2335 - binary_accuracy: 0.9095\n",
      "Epoch 10: saving model to ./models/mk5_gru_half_data/training_0\\cp-0010.ckpt\n",
      "12436/12436 [==============================] - 46419s 4s/step - loss: 0.2335 - binary_accuracy: 0.9095 - val_loss: 0.2244 - val_binary_accuracy: 0.9006\n"
     ]
    }
   ],
   "source": [
    "gru_history = gru_model.fit(train,\n",
    "                            epochs = EPOCH_NUM,\n",
    "                            validation_data=validation,\n",
    "                            callbacks=[gru_callback, gru_history_callback],\n",
    "                            validation_steps=30)"
   ]
  },
  {
   "cell_type": "code",
   "execution_count": 14,
   "metadata": {},
   "outputs": [],
   "source": [
    "with open(f'./models/{gru_model_name}/training_0/pickle_history', 'wb') as file_pi:\n",
    "    pickle.dump(gru_history.history, file_pi)\n",
    "\n",
    "with open(f'./models/{gru_model_name}/training_0/pickle_model', 'wb') as file_pi:\n",
    "    pickle.dump(gru_history.model, file_pi)"
   ]
  },
  {
   "cell_type": "code",
   "execution_count": 15,
   "metadata": {},
   "outputs": [],
   "source": [
    "dummy_model_name = \"mk5_dummy_half_data\"\n",
    "\n",
    "dummy_callback = getModelSaveCallback(dummy_model_name, 0)\n",
    "dummy_history_callback = getHistorySaveCallback(dummy_model_name, 0)"
   ]
  },
  {
   "cell_type": "code",
   "execution_count": 16,
   "metadata": {},
   "outputs": [
    {
     "name": "stdout",
     "output_type": "stream",
     "text": [
      "Epoch 1/10\n"
     ]
    },
    {
     "name": "stdout",
     "output_type": "stream",
     "text": [
      "  12436/Unknown - 431s 35ms/step - loss: 1.6057 - binary_accuracy: 0.8957\n",
      "Epoch 1: saving model to ./models/mk5_dummy_half_data/training_0\\cp-0001.ckpt\n",
      "12436/12436 [==============================] - 433s 35ms/step - loss: 1.6057 - binary_accuracy: 0.8957 - val_loss: 2.2693 - val_binary_accuracy: 0.8527\n",
      "Epoch 2/10\n",
      "12436/12436 [==============================] - ETA: 0s - loss: 1.6057 - binary_accuracy: 0.8957\n",
      "Epoch 2: saving model to ./models/mk5_dummy_half_data/training_0\\cp-0002.ckpt\n",
      "12436/12436 [==============================] - 353s 28ms/step - loss: 1.6057 - binary_accuracy: 0.8957 - val_loss: 2.2693 - val_binary_accuracy: 0.8527\n",
      "Epoch 3/10\n",
      "12436/12436 [==============================] - ETA: 0s - loss: 1.6057 - binary_accuracy: 0.8957\n",
      "Epoch 3: saving model to ./models/mk5_dummy_half_data/training_0\\cp-0003.ckpt\n",
      "12436/12436 [==============================] - 318s 26ms/step - loss: 1.6057 - binary_accuracy: 0.8957 - val_loss: 2.2693 - val_binary_accuracy: 0.8527\n",
      "Epoch 4/10\n",
      "12436/12436 [==============================] - ETA: 0s - loss: 1.6057 - binary_accuracy: 0.8957\n",
      "Epoch 4: saving model to ./models/mk5_dummy_half_data/training_0\\cp-0004.ckpt\n",
      "12436/12436 [==============================] - 331s 27ms/step - loss: 1.6057 - binary_accuracy: 0.8957 - val_loss: 2.2693 - val_binary_accuracy: 0.8527\n",
      "Epoch 5/10\n",
      "12436/12436 [==============================] - ETA: 0s - loss: 1.6057 - binary_accuracy: 0.8957\n",
      "Epoch 5: saving model to ./models/mk5_dummy_half_data/training_0\\cp-0005.ckpt\n",
      "12436/12436 [==============================] - 278s 22ms/step - loss: 1.6057 - binary_accuracy: 0.8957 - val_loss: 2.2693 - val_binary_accuracy: 0.8527\n",
      "Epoch 6/10\n",
      "12436/12436 [==============================] - ETA: 0s - loss: 1.6057 - binary_accuracy: 0.8957\n",
      "Epoch 6: saving model to ./models/mk5_dummy_half_data/training_0\\cp-0006.ckpt\n",
      "12436/12436 [==============================] - 338s 27ms/step - loss: 1.6057 - binary_accuracy: 0.8957 - val_loss: 2.2693 - val_binary_accuracy: 0.8527\n",
      "Epoch 7/10\n",
      "12436/12436 [==============================] - ETA: 0s - loss: 1.6057 - binary_accuracy: 0.8957\n",
      "Epoch 7: saving model to ./models/mk5_dummy_half_data/training_0\\cp-0007.ckpt\n",
      "12436/12436 [==============================] - 293s 24ms/step - loss: 1.6057 - binary_accuracy: 0.8957 - val_loss: 2.2693 - val_binary_accuracy: 0.8527\n",
      "Epoch 8/10\n",
      "12436/12436 [==============================] - ETA: 0s - loss: 1.6057 - binary_accuracy: 0.8957\n",
      "Epoch 8: saving model to ./models/mk5_dummy_half_data/training_0\\cp-0008.ckpt\n",
      "12436/12436 [==============================] - 298s 24ms/step - loss: 1.6057 - binary_accuracy: 0.8957 - val_loss: 2.2693 - val_binary_accuracy: 0.8527\n",
      "Epoch 9/10\n",
      "12436/12436 [==============================] - ETA: 0s - loss: 1.6057 - binary_accuracy: 0.8957\n",
      "Epoch 9: saving model to ./models/mk5_dummy_half_data/training_0\\cp-0009.ckpt\n",
      "12436/12436 [==============================] - 285s 23ms/step - loss: 1.6057 - binary_accuracy: 0.8957 - val_loss: 2.2693 - val_binary_accuracy: 0.8527\n",
      "Epoch 10/10\n",
      "12436/12436 [==============================] - ETA: 0s - loss: 1.6057 - binary_accuracy: 0.8957\n",
      "Epoch 10: saving model to ./models/mk5_dummy_half_data/training_0\\cp-0010.ckpt\n",
      "12436/12436 [==============================] - 297s 24ms/step - loss: 1.6057 - binary_accuracy: 0.8957 - val_loss: 2.2693 - val_binary_accuracy: 0.8527\n"
     ]
    }
   ],
   "source": [
    "dummy_history = dummy_model.fit(train,\n",
    "                                epochs = EPOCH_NUM,\n",
    "                                validation_data = validation,\n",
    "                                callbacks=[dummy_callback, dummy_history_callback],\n",
    "                                validation_steps = 30)"
   ]
  },
  {
   "cell_type": "code",
   "execution_count": 20,
   "metadata": {},
   "outputs": [
    {
     "name": "stdout",
     "output_type": "stream",
     "text": [
      "1729/1729 [==============================] - 69s 38ms/step - loss: 0.3021 - binary_accuracy: 0.8926\n",
      "1729/1729 [==============================] - 52s 30ms/step - loss: 0.2915 - binary_accuracy: 0.8926\n",
      "1729/1729 [==============================] - 40s 23ms/step - loss: 1.5831 - binary_accuracy: 0.8973\n",
      "LSTM Test Loss: 0.3021155893802643\n",
      "LSTM Test Accuracy: 0.8925847411155701\n",
      "GRU Test Loss: 0.2915232479572296\n",
      "GRU Test Accuracy: 0.8925617933273315\n",
      "Dummy Test Loss: 1.5831458568572998\n",
      "Dummy Test Accuracy: 0.8972615003585815\n"
     ]
    }
   ],
   "source": [
    "lstm_test_loss, lstm_test_acc = lstm_model.evaluate(test)\n",
    "gru_test_loss, gru_test_acc = gru_model.evaluate(test)\n",
    "dummy_test_loss, dummy_test_acc = dummy_model.evaluate(test)\n",
    "\n",
    "print('LSTM Test Loss:', lstm_test_loss)\n",
    "print('LSTM Test Accuracy:', lstm_test_acc)\n",
    "print('GRU Test Loss:', gru_test_loss)\n",
    "print('GRU Test Accuracy:', gru_test_acc)\n",
    "print('Dummy Test Loss:', dummy_test_loss)\n",
    "print('Dummy Test Accuracy:', dummy_test_acc)"
   ]
  },
  {
   "cell_type": "code",
   "execution_count": 21,
   "metadata": {},
   "outputs": [],
   "source": [
    "model_test_values = { \"LSTM\": { \"Test Loss\": lstm_test_loss, \"Test Accuracy\": lstm_test_acc }, \"GRU\": { \"Test Loss\": gru_test_loss, \"Test Accuracy\": gru_test_acc }, \"Dummy\": { \"Test Loss\": dummy_test_loss, \"Test Accuracy\": dummy_test_acc } }\n",
    "\n",
    "if not os.path.exists(\"./models/mk5_test_data\"):\n",
    "    os.makedirs(\"./models/mk5_test_data\")\n",
    "\n",
    "with open(f'./models/mk5_test_data/test_data', 'wb') as file_pi:\n",
    "    pickle.dump(model_test_values, file_pi)\n"
   ]
  },
  {
   "cell_type": "code",
   "execution_count": null,
   "metadata": {},
   "outputs": [],
   "source": []
  },
  {
   "cell_type": "code",
   "execution_count": 30,
   "metadata": {},
   "outputs": [
    {
     "name": "stdout",
     "output_type": "stream",
     "text": [
      "{'lstm': {'test_loss': 0.30938613414764404, 'test_acc': 0.9075561165809631}, 'gru': {'test_loss': 0.29427117109298706, 'test_acc': 0.9094348549842834}, 'dummy': {'test_loss': 1.356253981590271, 'test_acc': 0.9119824171066284}}\n"
     ]
    }
   ],
   "source": [
    "with open(f'./models/mk6_test_data/test_data', 'rb') as file_pi:\n",
    "    test_data = pickle.load(file_pi)\n",
    "\n",
    "print(test_data)"
   ]
  },
  {
   "cell_type": "code",
   "execution_count": 31,
   "metadata": {},
   "outputs": [
    {
     "name": "stderr",
     "output_type": "stream",
     "text": [
      "C:\\Users\\mcuom\\AppData\\Local\\Temp\\ipykernel_40988\\51319224.py:3: MatplotlibDeprecationWarning: Auto-removal of overlapping axes is deprecated since 3.6 and will be removed two minor releases later; explicitly call ax.remove() as needed.\n",
      "  plt.subplot(1, 2, 1)\n"
     ]
    },
    {
     "data": {
      "text/plain": [
       "(0.0, 2.3722997389733793)"
      ]
     },
     "execution_count": 31,
     "metadata": {},
     "output_type": "execute_result"
    },
    {
     "data": {
      "image/png": "[encoded data removed]",
      "text/plain": [
       "<Figure size 1600x800 with 2 Axes>"
      ]
     },
     "metadata": {},
     "output_type": "display_data"
    }
   ],
   "source": [
    "plt.figure(figsize=(16, 8))\n",
    "plt.title(\"Train and Validation Accuracy and Loss Model Comparison\")\n",
    "plt.subplot(1, 2, 1)\n",
    "plot_graphs([lstm_history, gru_history, dummy_history], [\"LSTM Accuracy\", \"GRU Accuracy\", \"Dummy Accuracy\"], \"Binary Accuracy\", \"Binary Accuracy Across Epochs\", 'binary_accuracy')\n",
    "plt.ylim(None, 1)\n",
    "plt.subplot(1, 2, 2)\n",
    "plot_graphs([lstm_history, gru_history, dummy_history], [\"LSTM Loss\", \"GRU Loss\", \"Dummy Loss\"], \"Loss\", \"Loss Across Epochs\", 'loss')\n",
    "plt.ylim(0, None)"
   ]
  },
  {
   "cell_type": "code",
   "execution_count": null,
   "metadata": {},
   "outputs": [
    {
     "data": {
      "text/plain": [
       "[Text(0, 0, '0.448704'), Text(0, 0, '0.433498'), Text(0, 0, '1.73332')]"
      ]
     },
     "execution_count": 52,
     "metadata": {},
     "output_type": "execute_result"
    },
    {
     "data": {
      "image/png": "[encoded data removed]",
      "text/plain": [
       "<Figure size 1600x800 with 2 Axes>"
      ]
     },
     "metadata": {},
     "output_type": "display_data"
    }
   ],
   "source": [
    "model_names = [\"LSTM\", \"GRU\", \"Dummy\"]\n",
    "colors = [\"green\", \"orange\", \"red\"]\n",
    "\n",
    "plt.figure(figsize=(16, 8))\n",
    "plt.subplot(1, 2, 1)\n",
    "plt.title(\"Test Binary Accuracy Across Models\")\n",
    "plt.xlabel(\"Model\")\n",
    "plt.ylabel(\"Binary Accuracy\")\n",
    "test_binary_accuracy_bar = plt.bar(model_names, [lstm_test_acc, gru_test_acc, dummy_test_acc], color = colors)\n",
    "plt.bar_label(test_binary_accuracy_bar)\n",
    "plt.ylim(None, 1)\n",
    "plt.subplot(1, 2, 2)\n",
    "plt.title(\"Test Loss Across Models\")\n",
    "plt.xlabel(\"Model\")\n",
    "plt.ylabel(\"Loss\")\n",
    "test_loss_bar = plt.bar(model_names, [lstm_test_loss, gru_test_loss, dummy_test_loss], color = colors)\n",
    "plt.bar_label(test_loss_bar)"
   ]
  },
  {
   "cell_type": "code",
   "execution_count": 53,
   "metadata": {},
   "outputs": [
    {
     "name": "stdout",
     "output_type": "stream",
     "text": [
      "Model: \"sequential_9\"\n",
      "_________________________________________________________________\n",
      " Layer (type)                Output Shape              Param #   \n",
      "=================================================================\n",
      " text_vectorization_17 (Tex  (None, None)              0         \n",
      " tVectorization)                                                 \n",
      "                                                                 \n",
      " embedding_9 (Embedding)     (None, None, 64)          640000    \n",
      "                                                                 \n",
      " bidirectional_9 (Bidirecti  (None, 128)               66048     \n",
      " onal)                                                           \n",
      "                                                                 \n",
      " dense_18 (Dense)            (None, 64)                8256      \n",
      "                                                                 \n",
      " dense_19 (Dense)            (None, 27)                1755      \n",
      "                                                                 \n",
      "=================================================================\n",
      "Total params: 716059 (2.73 MB)\n",
      "Trainable params: 716059 (2.73 MB)\n",
      "Non-trainable params: 0 (0.00 Byte)\n",
      "_________________________________________________________________\n"
     ]
    }
   ],
   "source": [
    "lstm_model.summary()"
   ]
  },
  {
   "cell_type": "code",
   "execution_count": 54,
   "metadata": {},
   "outputs": [
    {
     "name": "stdout",
     "output_type": "stream",
     "text": [
      "Model: \"sequential_10\"\n",
      "_________________________________________________________________\n",
      " Layer (type)                Output Shape              Param #   \n",
      "=================================================================\n",
      " text_vectorization_18 (Tex  (None, None)              0         \n",
      " tVectorization)                                                 \n",
      "                                                                 \n",
      " embedding_10 (Embedding)    (None, None, 64)          640000    \n",
      "                                                                 \n",
      " bidirectional_10 (Bidirect  (None, 128)               49920     \n",
      " ional)                                                          \n",
      "                                                                 \n",
      " dense_20 (Dense)            (None, 64)                8256      \n",
      "                                                                 \n",
      " dense_21 (Dense)            (None, 27)                1755      \n",
      "                                                                 \n",
      "=================================================================\n",
      "Total params: 699931 (2.67 MB)\n",
      "Trainable params: 699931 (2.67 MB)\n",
      "Non-trainable params: 0 (0.00 Byte)\n",
      "_________________________________________________________________\n"
     ]
    }
   ],
   "source": [
    "gru_model.summary()"
   ]
  },
  {
   "cell_type": "code",
   "execution_count": 84,
   "metadata": {},
   "outputs": [
    {
     "name": "stdout",
     "output_type": "stream",
     "text": [
      "Model: \"model_14\"\n",
      "_________________________________________________________________\n",
      " Layer (type)                Output Shape              Param #   \n",
      "=================================================================\n",
      " input_17 (InputLayer)       [(None,)]                 0         \n",
      "                                                                 \n",
      " lambda_14 (Lambda)          (27,)                     0         \n",
      "                                                                 \n",
      "=================================================================\n",
      "Total params: 0 (0.00 Byte)\n",
      "Trainable params: 0 (0.00 Byte)\n",
      "Non-trainable params: 0 (0.00 Byte)\n",
      "_________________________________________________________________\n"
     ]
    }
   ],
   "source": [
    "dummy_model.summary()"
   ]
  },
  {
   "cell_type": "code",
   "execution_count": 14,
   "metadata": {},
   "outputs": [
    {
     "name": "stdout",
     "output_type": "stream",
     "text": [
      "[]\n"
     ]
    }
   ],
   "source": [
    "gpus = tf.config.experimental.list_physical_devices('GPU')\n",
    "print(gpus)"
   ]
  },
  {
   "cell_type": "code",
   "execution_count": 129,
   "metadata": {},
   "outputs": [],
   "source": [
    "checkpoint_path = \"./models/mk3_binary_crossentropy/training_2/cp-{epoch:04d}.ckpt\"\n",
    "checkpoint_dir = os.path.dirname(checkpoint_path)\n",
    "cp_callback = tf.keras.callbacks.ModelCheckpoint(\n",
    "    filepath=checkpoint_path, \n",
    "    verbose=1, \n",
    "    save_weights_only=True)"
   ]
  },
  {
   "cell_type": "code",
   "execution_count": 137,
   "metadata": {},
   "outputs": [
    {
     "name": "stdout",
     "output_type": "stream",
     "text": [
      "Tensor(\"strided_slice_2:0\", shape=(), dtype=float32)\n",
      "Tensor(\"strided_slice_4:0\", shape=(), dtype=float32)\n",
      "Tensor(\"strided_slice_2:0\", shape=(), dtype=float32)\n",
      "Tensor(\"strided_slice_4:0\", shape=(), dtype=float32)\n",
      "   1214/Unknown - 123s 88ms/step - loss: 0.2740 - binary_accuracy: 0.8958 - HAMMING_LOSS: 0.8976"
     ]
    }
   ],
   "source": [
    "BATCH_SIZE = 128\n",
    "train = train.batch(BATCH_SIZE)\n",
    "test = test.batch(BATCH_SIZE)\n",
    "history = model.fit(train,\n",
    "                    epochs = 1,\n",
    "                    validation_data=test,\n",
    "                    callbacks=[cp_callback],\n",
    "                    validation_steps=30)\n"
   ]
  },
  {
   "cell_type": "code",
   "execution_count": 14,
   "metadata": {},
   "outputs": [
    {
     "name": "stdout",
     "output_type": "stream",
     "text": [
      "Model: \"sequential\"\n",
      "_________________________________________________________________\n",
      " Layer (type)                Output Shape              Param #   \n",
      "=================================================================\n",
      " text_vectorization_1 (Text  (None, None)              0         \n",
      " Vectorization)                                                  \n",
      "                                                                 \n",
      " embedding (Embedding)       (None, None, 64)          320000    \n",
      "                                                                 \n",
      " bidirectional (Bidirection  (None, 128)               66048     \n",
      " al)                                                             \n",
      "                                                                 \n",
      " dense (Dense)               (None, 64)                8256      \n",
      "                                                                 \n",
      " dense_1 (Dense)             (None, 27)                1755      \n",
      "                                                                 \n",
      "=================================================================\n",
      "Total params: 396059 (1.51 MB)\n",
      "Trainable params: 396059 (1.51 MB)\n",
      "Non-trainable params: 0 (0.00 Byte)\n",
      "_________________________________________________________________\n"
     ]
    }
   ],
   "source": [
    "model.summary()"
   ]
  },
  {
   "cell_type": "code",
   "execution_count": 39,
   "metadata": {},
   "outputs": [
    {
     "data": {
      "text/plain": [
       "<tensorflow.python.checkpoint.checkpoint.CheckpointLoadStatus at 0x16f37338150>"
      ]
     },
     "execution_count": 39,
     "metadata": {},
     "output_type": "execute_result"
    }
   ],
   "source": [
    "model = createSuccinctOutputVectorModel(get_existing_encoder(encoder_type = \"_ubuntu\", vocab_size = 5000))\n",
    "model.compile(loss='binary_crossentropy', optimizer='adam', metrics=['binary_accuracy'], run_eagerly=False)\n",
    "model.load_weights(\"./models/mk2_binary_crossentropy/training_1/cp-0002.ckpt\")"
   ]
  },
  {
   "cell_type": "code",
   "execution_count": 15,
   "metadata": {},
   "outputs": [],
   "source": [
    "train = getSuccinctTrainDataset()\n",
    "test = next(iter(train))"
   ]
  },
  {
   "cell_type": "code",
   "execution_count": 44,
   "metadata": {},
   "outputs": [],
   "source": [
    "test2 = next(iter(test))"
   ]
  },
  {
   "cell_type": "code",
   "execution_count": 18,
   "metadata": {},
   "outputs": [],
   "source": [
    "input, output = test"
   ]
  },
  {
   "cell_type": "code",
   "execution_count": 45,
   "metadata": {},
   "outputs": [
    {
     "name": "stdout",
     "output_type": "stream",
     "text": [
      "(<tf.Tensor: shape=(128,), dtype=string, numpy=\n",
      "array([b'PATRICK', b\"-- I stayed with her.  I wasn't in jail,\",\n",
      "       b'She turns to Kat.', b\"I don't understand the allure of\",\n",
      "       b'She turns to face him with a countenance more in sorrow than',\n",
      "       b'Do you think you could give me a ride',\n",
      "       b'With the teeth of your zipper?', b'the hallway.', b'KAT',\n",
      "       b'PATRICK', b\"Because you're making decisions for me.\", b'PATRICK',\n",
      "       b'line of kids below.', b'MICHAEL', b'KAT',\n",
      "       b\"I didn't care about the money.\",\n",
      "       b'He wipes a smear of blue paint away from her lips,  as he',\n",
      "       b'from the water fountain.', b'RIDER',\n",
      "       b'I was kidding. People actually live', b'give it a day.',\n",
      "       b'What can I get you?', b'PATRICK', b'PATRICK',\n",
      "       b'(matter of fact)', b'count as a date.', b'(continuing)',\n",
      "       b\"you won't be there.\", b'thing on Saturday?',\n",
      "       b'moped. Kat has to SLAM the brakes to keep from hitting him',\n",
      "       b'PATRICK', b'KAT', b'flash of skin.',\n",
      "       b'Joey and his groupies emerge and head for the liquor store',\n",
      "       b'PATRICK', b'PATRICK', b'PATRICK', b'MISS PERKY', b'MICHAEL',\n",
      "       b'the way you read my mind/ I hate you so',\n",
      "       b'Bianca ignores the droning teacher as she writes a note in',\n",
      "       b'She looks directly at Patrick.  He looks back this time.',\n",
      "       b'without a look.', b'(continuing)', b'KAT', b'hedge-pig.',\n",
      "       b'and Kat enter, Kat attempting to deny the romance of it.',\n",
      "       b'mirror, applying lipstick.  Her less extraordinary, but',\n",
      "       b\"Watching the bitch trash my car doesn't\",\n",
      "       b'The band takes a break, so they can stop yelling now',\n",
      "       b'then gives Cameron the once-over and walks away.', b'PATRICK',\n",
      "       b'MICHAEL',\n",
      "       b'Patrick sits on the bleachers nearby, watching.  A cigarette',\n",
      "       b'Kat enters, then quickly tries to make an about face.  Joey',\n",
      "       b'Would you rather be ravished by a', b'(waking)', b'gentleman...',\n",
      "       b\"C'mon, let's walk\", b'PATRICK',\n",
      "       b\"She looks at Patrick again.  He's completely absorbed in the\",\n",
      "       b'that?', b'He kisses her neck.  It tickles.  She laughs.',\n",
      "       b\"but I'm sure you're all doing your best.\", b'MICHAEL',\n",
      "       b'Kat stands up slowly', b'I think I like the white shirt',\n",
      "       b'on my part.',\n",
      "       b'Kat stares at him, pissed.  Then gets out of the car,',\n",
      "       b'NEAR THE STAGE',\n",
      "       b'Patrick winces slightly, but covers it with a smile',\n",
      "       b'Any questions?',\n",
      "       b'Princeton Grad Bogey Lowenstein proudly presents a Saturday',\n",
      "       b'How many people were in your old', b'hand on your ass...',\n",
      "       b'The phone sits next to her.  Not ringing.  Bianca breezes',\n",
      "       b'Good call.', b'eating a carton of yogurt with gusto.',\n",
      "       b'giggling hyenas and wails on it.  The barker hands her a',\n",
      "       b'EXT. SCHOOL COURTYARD - DAY', b\"Then that's all you had to say.\",\n",
      "       b'BIANCA', b'Derek?', b'\"Undulating with desire, Adrienne',\n",
      "       b\"If you're planning on asking me out you might as well get it\",\n",
      "       b'MICHAEL',\n",
      "       b'Michael begins fearfully, pedaling as Kat PEELS out, angry',\n",
      "       b'BOY (0.S.)', b'WALTER', b'this game.',\n",
      "       b'the one person I truly hate.  I knew it',\n",
      "       b'advice from you right now.',\n",
      "       b'He said everyone was doing it.  So I',\n",
      "       b'blanket, watching \"Sixteen Candles\".  When Molly Ringwald',\n",
      "       b\"Because she'll scare them away.\",\n",
      "       b'Kat, my lady, you sway to the rhythm of', b'No, but',\n",
      "       b\"You mean I'd get a chance to talk to\",\n",
      "       b'Kat shrugs as she comes back out of the kitchen with an',\n",
      "       b\"has decided that he doesn't need to wear pants.\",\n",
      "       b\"How'd you do it?\", b\"INT. BOGEY'S BATHROOM - NIGHT\",\n",
      "       b'CRANE UP and hear a GIRLY PUNK version of The Partridge',\n",
      "       b'Would anyone care to read theirs aloud?',\n",
      "       b'Look, Clem even wore his good boots', b'MICHAEL',\n",
      "       b'Dead at forty-one.', b'Then breaks it off',\n",
      "       b'If you must know, we were attempting to', b'INT. HALLWAY - DAY',\n",
      "       b'Why are you doing this?', b\"He's more than freaked.  He's froke\",\n",
      "       b'MICHAEL', b'Kat steams.  And watches him watch the band',\n",
      "       b'PATRICK', b'You are so not what I thought you were.',\n",
      "       b'Extremely unfortunate maneuver.', b'Veronica.',\n",
      "       b'When you were gone last year -- where', b'classroom.',\n",
      "       b'He motions to the SIGN for a paint-ball game. She grins',\n",
      "       b'MANDELLA', b'could.  Apparently, this makes me a', b'WALTER',\n",
      "       b'Say it', b'(continuing)', b'My man',\n",
      "       b\"you. It's tomorrow night --\"], dtype=object)>, <tf.Tensor: shape=(128, 27), dtype=float32, numpy=\n",
      "array([[1., 1., 1., ..., 0., 0., 0.],\n",
      "       [1., 1., 1., ..., 0., 0., 0.],\n",
      "       [1., 1., 1., ..., 0., 0., 0.],\n",
      "       ...,\n",
      "       [1., 1., 1., ..., 0., 0., 0.],\n",
      "       [1., 1., 1., ..., 0., 0., 0.],\n",
      "       [1., 1., 1., ..., 0., 0., 0.]], dtype=float32)>)\n"
     ]
    }
   ],
   "source": [
    "print(test2)"
   ]
  },
  {
   "cell_type": "code",
   "execution_count": 49,
   "metadata": {},
   "outputs": [
    {
     "name": "stdout",
     "output_type": "stream",
     "text": [
      "4/4 [==============================] - 0s 8ms/step\n"
     ]
    }
   ],
   "source": [
    "test_output = model.predict(test2[0])"
   ]
  },
  {
   "cell_type": "code",
   "execution_count": 58,
   "metadata": {},
   "outputs": [
    {
     "name": "stdout",
     "output_type": "stream",
     "text": [
      "1/1 [==============================] - 0s 61ms/step\n"
     ]
    }
   ],
   "source": [
    "test_output = model.predict([\"An '89 Mustang bursts like a shot over a rise in the highway.\",\n",
    "\"It's got a rusted two-tone paint job, Maryland plates, and\",\n",
    "\"bald tires that scream as it peels off an exit and into the\",\n",
    "\"EXT. SUBURBS - DAY\",\n",
    "\"The car fast approaches a stop sign, dangerously blows through\",\n",
    "\"the intersection.\",\n",
    "\"INT. MUSTANG - DAY - MOVING\",\n",
    "\"We don't see the DRIVER, only the redlining RPMs, Vans slip-\",\n",
    "\"ons working the pedals, wristwatch being checked. The wheel\",\n",
    "\"cranks right as the car turns onto a -\",\n",
    "\"One way street. A minivan flies right at us. The Mustang\"])"
   ]
  },
  {
   "cell_type": "code",
   "execution_count": 59,
   "metadata": {},
   "outputs": [
    {
     "name": "stdout",
     "output_type": "stream",
     "text": [
      "[[3.14859718e-01 5.42348444e-01 1.68708369e-01 2.63345540e-01\n",
      "  3.03521246e-01 1.14595674e-01 2.16133639e-01 1.88599646e-01\n",
      "  9.16576013e-02 2.49108329e-01 2.63186067e-01 1.29022479e-01\n",
      "  4.89824861e-02 1.03912704e-01 1.78554095e-02 1.46104038e-01\n",
      "  2.64835116e-02 1.33981064e-01 9.75284427e-02 6.29631802e-02\n",
      "  3.26888170e-03 3.08371820e-02 8.45037997e-02 1.72019227e-05\n",
      "  2.15044431e-02 6.45477027e-02 6.08475057e-05]\n",
      " [3.96176398e-01 6.07196689e-01 2.10735574e-01 2.27306649e-01\n",
      "  2.10784093e-01 1.08515538e-01 9.71222743e-02 9.91916656e-02\n",
      "  7.17160106e-02 1.44589543e-01 1.60658166e-01 8.13159272e-02\n",
      "  2.72275396e-02 4.14533280e-02 4.34602471e-03 8.29793587e-02\n",
      "  1.17788035e-02 7.76691511e-02 3.85149345e-02 3.02444864e-02\n",
      "  2.79898581e-04 2.66844295e-02 3.26348506e-02 1.03989362e-06\n",
      "  1.15185147e-02 3.97424698e-02 8.01345413e-06]\n",
      " [3.58642548e-01 5.66070676e-01 2.04575703e-01 2.38853574e-01\n",
      "  2.54501760e-01 1.17300957e-01 1.55803606e-01 1.41407698e-01\n",
      "  8.75649601e-02 1.99323028e-01 2.05867991e-01 1.16642460e-01\n",
      "  3.93725969e-02 7.57357255e-02 9.91918053e-03 1.16371304e-01\n",
      "  1.73226148e-02 1.12185180e-01 6.64361045e-02 4.94348332e-02\n",
      "  1.02129055e-03 3.64142470e-02 5.11553399e-02 5.79672724e-06\n",
      "  1.94249209e-02 5.79249077e-02 2.84616181e-05]\n",
      " [3.64015192e-01 5.76401114e-01 1.98994637e-01 2.24878684e-01\n",
      "  2.31350705e-01 1.22085646e-01 1.31430507e-01 1.35652646e-01\n",
      "  9.15811881e-02 1.96123436e-01 1.97984233e-01 1.09699354e-01\n",
      "  3.95789817e-02 6.38922676e-02 9.69311688e-03 1.10486709e-01\n",
      "  1.99352410e-02 1.11343846e-01 6.95953518e-02 4.66055721e-02\n",
      "  8.41984584e-04 3.73466983e-02 5.43032698e-02 3.82820372e-06\n",
      "  2.08531562e-02 6.06938116e-02 2.67842715e-05]\n",
      " [3.13059390e-01 5.54860592e-01 1.73953712e-01 2.58577108e-01\n",
      "  2.93487459e-01 1.20936088e-01 2.03779712e-01 1.83147222e-01\n",
      "  9.65102986e-02 2.44004503e-01 2.54186630e-01 1.29668415e-01\n",
      "  5.01049981e-02 1.02878794e-01 1.63011253e-02 1.38532192e-01\n",
      "  2.52256989e-02 1.29811764e-01 8.95469114e-02 6.22035153e-02\n",
      "  2.48046382e-03 3.26574929e-02 8.35548788e-02 1.17980035e-05\n",
      "  2.17597038e-02 6.29723296e-02 4.98792760e-05]\n",
      " [3.35809529e-01 5.79224825e-01 1.91823244e-01 2.36974150e-01\n",
      "  2.52189010e-01 1.27363816e-01 1.53899059e-01 1.52350634e-01\n",
      "  9.79242474e-02 2.12533236e-01 2.15583965e-01 1.18456461e-01\n",
      "  4.48042341e-02 7.99794868e-02 1.11075109e-02 1.15790084e-01\n",
      "  2.08421890e-02 1.14588462e-01 7.07010627e-02 5.23407720e-02\n",
      "  1.06943038e-03 3.63640748e-02 6.57821670e-02 4.42837018e-06\n",
      "  2.09673829e-02 5.87753803e-02 2.85549504e-05]\n",
      " [2.81847268e-01 5.73518217e-01 1.59465402e-01 2.53543139e-01\n",
      "  2.93254942e-01 1.20748602e-01 2.01588690e-01 1.91763207e-01\n",
      "  9.33087021e-02 2.47602552e-01 2.61530399e-01 1.20054916e-01\n",
      "  4.92058694e-02 1.10382721e-01 1.53008783e-02 1.24182671e-01\n",
      "  2.43496653e-02 1.13783084e-01 8.07378963e-02 5.63662127e-02\n",
      "  2.41441024e-03 2.78055072e-02 9.44593027e-02 8.20771129e-06\n",
      "  1.99342985e-02 5.06286770e-02 3.90576533e-05]\n",
      " [3.63840222e-01 5.70877254e-01 1.93557113e-01 2.39144355e-01\n",
      "  2.49675691e-01 1.07354380e-01 1.42987281e-01 1.33207157e-01\n",
      "  7.71793351e-02 1.84979379e-01 1.99745968e-01 9.94559675e-02\n",
      "  3.35648432e-02 6.29924536e-02 8.14794376e-03 1.07879117e-01\n",
      "  1.64151154e-02 1.00160673e-01 6.05610423e-02 4.15285379e-02\n",
      "  9.34025855e-04 2.91416291e-02 4.74838875e-02 4.47088041e-06\n",
      "  1.54408542e-02 4.95170988e-02 2.17499601e-05]\n",
      " [3.10525447e-01 5.68785310e-01 1.88622862e-01 2.38793761e-01\n",
      "  2.74731934e-01 1.26761317e-01 1.87309548e-01 1.75838158e-01\n",
      "  1.00663356e-01 2.32603416e-01 2.31459275e-01 1.27714783e-01\n",
      "  4.66900766e-02 1.04708493e-01 1.29411910e-02 1.21766172e-01\n",
      "  2.09779516e-02 1.20383449e-01 7.77705982e-02 5.85137643e-02\n",
      "  1.76139583e-03 3.83604802e-02 7.55215287e-02 7.62419722e-06\n",
      "  2.25576814e-02 5.69382235e-02 3.76187891e-05]\n",
      " [3.52821887e-01 5.72379947e-01 1.96895257e-01 2.33295515e-01\n",
      "  2.45765850e-01 1.22345634e-01 1.47041023e-01 1.44176558e-01\n",
      "  9.28015411e-02 2.04607427e-01 2.08070919e-01 1.15357563e-01\n",
      "  4.16789614e-02 7.27621987e-02 1.06041552e-02 1.15684181e-01\n",
      "  2.00291779e-02 1.14454933e-01 7.11642280e-02 4.99906950e-02\n",
      "  1.02097879e-03 3.68429497e-02 5.80604933e-02 4.85049759e-06\n",
      "  2.08656378e-02 6.04677424e-02 2.95586160e-05]\n",
      " [3.34628284e-01 5.62658787e-01 1.89055026e-01 2.39480957e-01\n",
      "  2.58617729e-01 1.36411324e-01 1.69275105e-01 1.68143332e-01\n",
      "  1.10891923e-01 2.40893424e-01 2.35977173e-01 1.38844743e-01\n",
      "  5.56544289e-02 9.05350968e-02 1.70486476e-02 1.37035444e-01\n",
      "  2.81072259e-02 1.40022561e-01 9.50511470e-02 6.53115213e-02\n",
      "  1.61514676e-03 4.32782918e-02 8.04338455e-02 8.06685057e-06\n",
      "  2.87394375e-02 7.88037106e-02 5.31316946e-05]]\n"
     ]
    }
   ],
   "source": [
    "print(test_output)"
   ]
  },
  {
   "cell_type": "code",
   "execution_count": 63,
   "metadata": {},
   "outputs": [
    {
     "name": "stdout",
     "output_type": "stream",
     "text": [
      "[3.38747770e-01 5.70392907e-01 1.88762441e-01 2.41290316e-01\n",
      " 2.60716408e-01 1.20401733e-01 1.64215475e-01 1.55770719e-01\n",
      " 9.19817463e-02 2.14215294e-01 2.21295536e-01 1.16930276e-01\n",
      " 4.33513671e-02 8.26575682e-02 1.21150166e-02 1.19710110e-01\n",
      " 2.10424736e-02 1.15307644e-01 7.43279755e-02 5.23184650e-02\n",
      " 1.51890062e-03 3.41575406e-02 6.61721230e-02 7.02847865e-06\n",
      " 2.03241836e-02 5.82738183e-02 3.48779795e-05]\n"
     ]
    }
   ],
   "source": [
    "avg_output = numpy.nanmean(test_output, axis = 0)\n",
    "print(avg_output)"
   ]
  },
  {
   "cell_type": "code",
   "execution_count": 64,
   "metadata": {},
   "outputs": [
    {
     "name": "stdout",
     "output_type": "stream",
     "text": [
      "[0, 1, 0, 0, 0, 0, 0, 0, 0, 0, 0, 0, 0, 0, 0, 0, 0, 0, 0, 0, 0, 0, 0, 0, 0, 0, 0]\n"
     ]
    }
   ],
   "source": [
    "# mapped_output = list(map(lambda s: list(map(lambda x: 1 if x > 0.5 else 0, s)), test_output))\n",
    "# print(mapped_output)\n",
    "\n",
    "mapped_output = list(map(lambda x: 1 if x > 0.5 else 0, avg_output))\n",
    "print(mapped_output)\n"
   ]
  },
  {
   "cell_type": "code",
   "execution_count": 20,
   "metadata": {},
   "outputs": [
    {
     "name": "stdout",
     "output_type": "stream",
     "text": [
      "  17169/Unknown - 572s 33ms/step - loss: 0.2901 - binary_accuracy: 0.8939"
     ]
    }
   ],
   "source": [
    "test_loss, test_acc = model.evaluate(test)\n",
    "\n",
    "print('Test Loss:', test_loss)\n",
    "print('Test Accuracy:', test_acc)\n"
   ]
  },
  {
   "cell_type": "code",
   "execution_count": 110,
   "metadata": {},
   "outputs": [
    {
     "ename": "TypeError",
     "evalue": "plot_graphs() missing 2 required positional arguments: 'ylabel' and 'metric'",
     "output_type": "error",
     "traceback": [
      "\u001b[1;31m---------------------------------------------------------------------------\u001b[0m",
      "\u001b[1;31mTypeError\u001b[0m                                 Traceback (most recent call last)",
      "\u001b[1;32mc:\\school\\CAP6619\\research\\movie_genre_classifier.ipynb Cell 42\u001b[0m line \u001b[0;36m3\n\u001b[0;32m      <a href='vscode-notebook-cell:/c%3A/school/CAP6619/research/movie_genre_classifier.ipynb#X46sZmlsZQ%3D%3D?line=0'>1</a>\u001b[0m plt\u001b[39m.\u001b[39mfigure(figsize\u001b[39m=\u001b[39m(\u001b[39m16\u001b[39m, \u001b[39m8\u001b[39m))\n\u001b[0;32m      <a href='vscode-notebook-cell:/c%3A/school/CAP6619/research/movie_genre_classifier.ipynb#X46sZmlsZQ%3D%3D?line=1'>2</a>\u001b[0m plt\u001b[39m.\u001b[39msubplot(\u001b[39m1\u001b[39m, \u001b[39m2\u001b[39m, \u001b[39m1\u001b[39m)\n\u001b[1;32m----> <a href='vscode-notebook-cell:/c%3A/school/CAP6619/research/movie_genre_classifier.ipynb#X46sZmlsZQ%3D%3D?line=2'>3</a>\u001b[0m plot_graphs(history, \u001b[39m'\u001b[39;49m\u001b[39maccuracy\u001b[39;49m\u001b[39m'\u001b[39;49m)\n\u001b[0;32m      <a href='vscode-notebook-cell:/c%3A/school/CAP6619/research/movie_genre_classifier.ipynb#X46sZmlsZQ%3D%3D?line=3'>4</a>\u001b[0m plt\u001b[39m.\u001b[39mylim(\u001b[39mNone\u001b[39;00m, \u001b[39m1\u001b[39m)\n\u001b[0;32m      <a href='vscode-notebook-cell:/c%3A/school/CAP6619/research/movie_genre_classifier.ipynb#X46sZmlsZQ%3D%3D?line=4'>5</a>\u001b[0m plt\u001b[39m.\u001b[39msubplot(\u001b[39m1\u001b[39m, \u001b[39m2\u001b[39m, \u001b[39m2\u001b[39m)\n",
      "\u001b[1;31mTypeError\u001b[0m: plot_graphs() missing 2 required positional arguments: 'ylabel' and 'metric'"
     ]
    },
    {
     "data": {
      "image/png": "[encoded data removed]",
      "text/plain": [
       "<Figure size 1600x800 with 1 Axes>"
      ]
     },
     "metadata": {},
     "output_type": "display_data"
    }
   ],
   "source": [
    "plt.figure(figsize=(16, 8))\n",
    "plt.subplot(1, 2, 1)\n",
    "plot_graphs(history, 'accuracy')\n",
    "plt.ylim(None, 1)\n",
    "plt.subplot(1, 2, 2)\n",
    "plot_graphs(history, 'loss')\n",
    "plt.ylim(0, None)\n"
   ]
  },
  {
   "cell_type": "code",
   "execution_count": null,
   "metadata": {},
   "outputs": [],
   "source": [
    "def succintGenerator(seed = 42, train_split = 0.75, is_train = True):\n",
    "    # for movie in movie_names:\n",
    "    #     s = open(f\".\\\\data\\\\scripts\\\\{movie}\", \"r\")\n",
    "    #     script_lines = random.Random(seed).shuffle(s.read().split(\"\\n\"))\n",
    "    #     s.close()\n",
    "    #     if is_train:\n",
    "    #         script_lines = script_lines[:int(len(script_lines) * train_split) + 1]\n",
    "    #     else:\n",
    "    #         script_lines = script_lines[-(int(len(script_lines) * train_split) + 1):]\n",
    "    #     k = open(f\".\\\\data\\\\vectorized_keywords_succinct\\\\{movie}\", \"r\")\n",
    "    #     keywords = k.read().split(\",\")\n",
    "    #     k.close()\n",
    "    #     for line in script_lines:\n",
    "    #         yield line, keywords\n",
    "    movie = movie_names[0]\n",
    "    s = open(f\"./data/scripts/{movie}\", \"r\")\n",
    "    script_lines = random.Random(seed).shuffle(s.read().split(\"\\n\"))\n",
    "    s.close()\n",
    "    if is_train:\n",
    "        script_lines = script_lines[:int(len(script_lines) * train_split) + 1]\n",
    "    else:\n",
    "        script_lines = script_lines[-(int(len(script_lines) * train_split) + 1):]\n",
    "    k = open(f\"./data/vectorized_keywords_succinct/{movie}\", \"r\")\n",
    "    keywords = k.read().split(\",\")\n",
    "    k.close()\n",
    "    for line in script_lines:\n",
    "        yield line, keywords"
   ]
  }
 ],
 "metadata": {
  "kernelspec": {
   "display_name": "Python 3",
   "language": "python",
   "name": "python3"
  },
  "language_info": {
   "codemirror_mode": {
    "name": "ipython",
    "version": 3
   },
   "file_extension": ".py",
   "mimetype": "text/x-python",
   "name": "python",
   "nbconvert_exporter": "python",
   "pygments_lexer": "ipython3",
   "version": "3.11.1"
  }
 },
 "nbformat": 4,
 "nbformat_minor": 2
}
